{
  "nbformat": 4,
  "nbformat_minor": 0,
  "metadata": {
    "colab": {
      "provenance": []
    },
    "kernelspec": {
      "name": "python3",
      "display_name": "Python 3"
    }
  },
  "cells": [
    {
      "cell_type": "markdown",
      "metadata": {
        "id": "uWZABc8DM3sk"
      },
      "source": [
        "# Assignment 2:\n",
        "# Mining Frequent Patterns"
      ]
    },
    {
      "cell_type": "markdown",
      "metadata": {
        "id": "4ux5MzJKbr8t"
      },
      "source": [
        "In this assignment, we will using Apriori algorithm to mine the frequent patterns (sort terms, just set k = 3, 4, 5) from a social network dataset."
      ]
    },
    {
      "cell_type": "markdown",
      "metadata": {
        "id": "5KccoTuxW5FR"
      },
      "source": [
        "##Data Preparation"
      ]
    },
    {
      "cell_type": "markdown",
      "metadata": {
        "id": "h_nDDkVgW8OZ"
      },
      "source": [
        "At first, download the dataset from http://snap.stanford.edu/data/gemsec_facebook_dataset.tar.gz and read the dataset description. Then upload and connect it to your VM."
      ]
    },
    {
      "cell_type": "code",
      "metadata": {
        "id": "UjsWCUcMYC26"
      },
      "source": [
        "from google.colab import drive\n",
        "drive.mount('/content/drive')"
      ],
      "execution_count": null,
      "outputs": []
    },
    {
      "cell_type": "markdown",
      "metadata": {
        "id": "COo-EbynXfca"
      },
      "source": [
        "In this pratice, we just use the first datafile (artist_edges.csv).\n",
        "\n",
        "Now load the data to a variable in python."
      ]
    },
    {
      "cell_type": "code",
      "metadata": {
        "id": "vdlZb2PeL2Jd"
      },
      "source": [
        "# !pip install ordered-set\n",
        "\n",
        "labdir = \"/content/drive/MyDrive/Colab Notebooks/Assignment/Assignment2/data/facebook_clean_data/\"\n",
        "import csv\n",
        "\n",
        "with open(labdir+\"artist_edges.csv\") as csvfile:\n",
        "    facebook_clean_data = list(csv.reader(csvfile))\n"
      ],
      "execution_count": null,
      "outputs": []
    },
    {
      "cell_type": "markdown",
      "metadata": {
        "id": "_baMTKbndFJ2"
      },
      "source": [
        "##Apriori Algorithm"
      ]
    },
    {
      "cell_type": "markdown",
      "metadata": {
        "id": "iGVpq7mtdYDn"
      },
      "source": [
        "Apriori is an algorithm for frequent item set mining and association rule learning over relational databases.\n",
        "\n",
        "Before to perform Apriori, we need to define a function 'data_processing' for data preprocessing firstly.\n",
        "\n",
        "'data_set' is a list of transactions. Each transaction contains several items."
      ]
    },
    {
      "cell_type": "code",
      "metadata": {
        "id": "KIj8abpjff30"
      },
      "source": [
        "def processing_data():\n",
        "  dic = {}\n",
        "  for i in facebook_clean_data[1:]:\n",
        "    if not i[0] in dic:\n",
        "      dic[i[0]] = [i[1]]\n",
        "    else:\n",
        "      dic[i[0]].append(i[1])\n",
        "  data_set = list(dic.values())\n",
        "  #print(data_set)\n",
        "  return data_set\n",
        "# data_set = processing_data()"
      ],
      "execution_count": null,
      "outputs": []
    },
    {
      "cell_type": "markdown",
      "metadata": {
        "id": "eSzV4BXdgK-n"
      },
      "source": [
        "Now define a function 'create_C1' ot create frequent candidate 1-itemset C1 by scaning data set.\n",
        "\n",
        "C1: A set which contains all frequent candidate 1-itemsets."
      ]
    },
    {
      "cell_type": "code",
      "metadata": {
        "id": "HjaS_-4_gUA-"
      },
      "source": [
        "def create_C1(data_set):\n",
        "    C1 = set()\n",
        "    for t in data_set:\n",
        "        for item in t:\n",
        "            item_set = frozenset([item])\n",
        "            C1.add(item_set)\n",
        "    return C1\n"
      ],
      "execution_count": null,
      "outputs": []
    },
    {
      "cell_type": "markdown",
      "metadata": {
        "id": "CGlLBry6hZpP"
      },
      "source": [
        "Judge whether a frequent candidate k-itemset satisfy Apriori property.\n",
        "\n",
        "Ck_item: A frequent candidate k-itemset in Ck which contains all frequent candidate k-itemsets.\n",
        "\n",
        "Lksub1: A set which contains all frequent candidate (k-1)-itemsets."
      ]
    },
    {
      "cell_type": "code",
      "metadata": {
        "id": "JS7Sd5kmhrIW"
      },
      "source": [
        "def is_apriori(Ck_item, Lksub1):\n",
        "    for item in Ck_item:\n",
        "        sub_Ck = Ck_item - frozenset([item])\n",
        "        if sub_Ck not in Lksub1:\n",
        "            return False\n",
        "    return True"
      ],
      "execution_count": null,
      "outputs": []
    },
    {
      "cell_type": "markdown",
      "metadata": {
        "id": "VbTWdnowh9O_"
      },
      "source": [
        "Create Ck, a set which contains all all frequent candidate k-itemsets\n",
        "    by Lk-1's own connection operation.\n",
        "\n",
        "k: the item number of a frequent itemset.\n",
        "\n",
        "Ck: A set which contains all all frequent candidate k-itemsets."
      ]
    },
    {
      "cell_type": "code",
      "metadata": {
        "id": "AnDgTfe7iBd3"
      },
      "source": [
        "def create_Ck(Lksub1, k):\n",
        "    Ck = set()\n",
        "    len_Lksub1 = len(Lksub1)\n",
        "    list_Lksub1 = list(Lksub1)\n",
        "    list_Lksub1 = sorted(list_Lksub1, key=lambda x: sorted(x))\n",
        "    for i in range(len_Lksub1):\n",
        "        # print(\"-\"*15)\n",
        "        for j in range(i+1, len_Lksub1):\n",
        "            # print(\"-\"*10)\n",
        "            l1 = list(list_Lksub1[i])\n",
        "            l2 = list(list_Lksub1[j])\n",
        "            l1.sort()\n",
        "            l2.sort()\n",
        "\n",
        "            if l1[0:k-2] == l2[0:k-2]:\n",
        "                Ck_item = list_Lksub1[i] | list_Lksub1[j]\n",
        "                # pruning\n",
        "                if is_apriori(Ck_item, Lksub1):\n",
        "                    Ck.add(Ck_item)\n",
        "    return Ck"
      ],
      "execution_count": null,
      "outputs": []
    },
    {
      "cell_type": "markdown",
      "metadata": {
        "id": "7Gb68FEHnxCW"
      },
      "source": [
        "Generate Lk by executing a delete policy from Ck.\n",
        "\n",
        "min_support: The minimum support.\n",
        "\n",
        "support_data: A dictionary. The key is frequent itemset and the value is support.\n",
        "\n",
        "Lk: A set which contains all all frequent k-itemsets."
      ]
    },
    {
      "cell_type": "code",
      "metadata": {
        "id": "OUhsI7BjiEyg"
      },
      "source": [
        "from os import times_result\n",
        "def generate_Lk_by_Ck(data_set, Ck, min_support, support_data):\n",
        "    Lk = set()\n",
        "    item_count = {}\n",
        "\n",
        "    for t in data_set:\n",
        "        for item in Ck:\n",
        "            if item.issubset(t):\n",
        "                if item not in item_count:\n",
        "                    item_count[item] = 1\n",
        "                else:\n",
        "                    item_count[item] += 1\n",
        "    t_num = float(len(data_set))\n",
        "\n",
        "    for item in item_count:\n",
        "        if (item_count[item] / t_num) >= min_support:\n",
        "            Lk.add(item)\n",
        "            support_data[item] = item_count[item] / t_num\n",
        "    return Lk"
      ],
      "execution_count": null,
      "outputs": []
    },
    {
      "cell_type": "code",
      "source": [
        "import math\n",
        "def get_best_min_support_for_L1(data_set, C1):\n",
        "    item_count = {}\n",
        "    for t in data_set:\n",
        "      for item in C1:\n",
        "          if item.issubset(t):\n",
        "              if item not in item_count:\n",
        "                  item_count[item] = 1\n",
        "              else:\n",
        "                  item_count[item] += 1\n",
        "    t_num = float(len(data_set))\n",
        "    suitable_min_support = max(item_count.values())/t_num\n",
        "    n = 2\n",
        "    suitable_min_support = math.floor(suitable_min_support*10**n - 1)/(10**n)\n",
        "    return suitable_min_support"
      ],
      "metadata": {
        "id": "ABCS9kdWGKbG"
      },
      "execution_count": null,
      "outputs": []
    },
    {
      "cell_type": "markdown",
      "metadata": {
        "id": "7n1SAMElojLn"
      },
      "source": [
        "Generate all frequent itemsets.\n",
        "\n",
        "k: Maximum number of items for all frequent itemsets.\n",
        "\n",
        "L: The list of Lk."
      ]
    },
    {
      "cell_type": "code",
      "metadata": {
        "id": "wN4l6hJ9iFOI"
      },
      "source": [
        "def generate_L(data_set, k, min_support):\n",
        "    support_data = {}\n",
        "    C1 = create_C1(data_set)\n",
        "    #initialize the min_support at L1\n",
        "    suitable_min_support = get_best_min_support_for_L1(data_set, C1)\n",
        "    if(suitable_min_support < min_support):\n",
        "        min_support = suitable_min_support\n",
        "    print(\"min_support \",min_support,\"on running\")\n",
        "\n",
        "    L1 = generate_Lk_by_Ck(data_set, C1, min_support, support_data)\n",
        "    Lksub1 = L1.copy()\n",
        "    L = []\n",
        "    L.append(Lksub1)\n",
        "    i = 2\n",
        "    for i in range(2, k+1):\n",
        "        Ci = create_Ck(Lksub1, i)\n",
        "        if(len(Ci)==0):\n",
        "          break\n",
        "        Li = generate_Lk_by_Ck(data_set, Ci, min_support, support_data)\n",
        "        Lksub1 = Li.copy()\n",
        "        L.append(Lksub1)\n",
        "        if(len(Lksub1) < 2):\n",
        "          break\n",
        "    print(\"-\"*10)\n",
        "    print(L)\n",
        "    print(\"-\" * 10)\n",
        "    print(\"support_data:\",support_data)\n",
        "    return L, support_data"
      ],
      "execution_count": null,
      "outputs": []
    },
    {
      "cell_type": "markdown",
      "metadata": {
        "id": "AAKWDJKuowQN"
      },
      "source": [
        "Generate big rules from frequent itemsets.\n",
        "\n",
        "min_conf: Minimal confidence.\n",
        "\n",
        "big_rule_list: A list which contains all big rules. Each big rule is represented as a 3-tuple."
      ]
    },
    {
      "cell_type": "code",
      "metadata": {
        "id": "hpkKAi8KiGw3"
      },
      "source": [
        "def generate_big_rules(L, support_data, min_conf):\n",
        "    big_rule_list = []\n",
        "    sub_set_list = []\n",
        "    for i in range(0, len(L)):\n",
        "        for freq_set in L[i]:\n",
        "            for sub_set in sub_set_list:\n",
        "                if sub_set.issubset(freq_set):\n",
        "                    conf = support_data[freq_set] / support_data[freq_set - sub_set]\n",
        "                    big_rule = (freq_set - sub_set, sub_set, conf)\n",
        "                    if conf >= min_conf and big_rule not in big_rule_list:\n",
        "                        big_rule_list.append(big_rule)\n",
        "            sub_set_list.append(freq_set)\n",
        "    return big_rule_list"
      ],
      "execution_count": null,
      "outputs": []
    },
    {
      "cell_type": "code",
      "metadata": {
        "id": "4YtoZRBzMUYz"
      },
      "source": [],
      "execution_count": null,
      "outputs": []
    },
    {
      "cell_type": "code",
      "metadata": {
        "id": "-vAxnJaOLAmx",
        "colab": {
          "base_uri": "https://localhost:8080/"
        },
        "outputId": "0c2b4b5b-8b42-4eef-e82e-47052436e38d"
      },
      "source": [
        "data_set = processing_data()\n",
        "# data_set = [['l1', 'l2', 'l5'], ['l2', 'l4'], ['l2', 'l3'], ['l1', 'l2', 'l4'], ['l1', 'l3'], ['l2', 'l3'],\n",
        "#            ['l1', 'l3'], ['l1', 'l2', 'l3', 'l5'], ['l1', 'l2', 'l3']]\n",
        "\n",
        "L, support_data = generate_L(data_set,k=3, min_support=0.2)\n",
        "big_rules_list = generate_big_rules(L, support_data, min_conf=0.7)\n",
        "print(len(L))\n",
        "print(L[0])\n",
        "for Lk in L:\n",
        "  print(\"=\"*50)\n",
        "  print(\"frequent \" + str(len(list(Lk)[0])) + \"-itemsets\\t\\tsupport\")\n",
        "  print(\"=\"*50)\n",
        "  for freq_set in Lk:\n",
        "    print(freq_set, support_data[freq_set])\n",
        "print(\"Big Rules\")\n",
        "for item in big_rules_list:\n",
        "  print(item[0], \"=>\", item[1], \"conf: \", item[2])"
      ],
      "execution_count": null,
      "outputs": [
        {
          "output_type": "stream",
          "name": "stdout",
          "text": [
            "min_support  0.01 on running\n",
            "----------\n",
            "[{frozenset({'37078'}), frozenset({'18540'}), frozenset({'26345'}), frozenset({'32478'}), frozenset({'29570'}), frozenset({'39940'}), frozenset({'49956'}), frozenset({'46074'}), frozenset({'37439'}), frozenset({'37638'}), frozenset({'45196'}), frozenset({'40251'}), frozenset({'48438'}), frozenset({'32660'}), frozenset({'46117'}), frozenset({'44960'}), frozenset({'22486'}), frozenset({'32294'}), frozenset({'38888'}), frozenset({'9187'}), frozenset({'42543'}), frozenset({'42892'}), frozenset({'44169'}), frozenset({'24170'}), frozenset({'50001'}), frozenset({'44657'}), frozenset({'39019'}), frozenset({'48794'}), frozenset({'31456'}), frozenset({'41998'}), frozenset({'48099'}), frozenset({'46775'}), frozenset({'49209'}), frozenset({'39158'}), frozenset({'45197'}), frozenset({'39379'}), frozenset({'41361'}), frozenset({'40666'}), frozenset({'11204'}), frozenset({'37329'}), frozenset({'39284'}), frozenset({'40958'}), frozenset({'47790'}), frozenset({'36353'}), frozenset({'46851'}), frozenset({'39349'}), frozenset({'43819'}), frozenset({'47770'}), frozenset({'47870'}), frozenset({'34597'}), frozenset({'39731'}), frozenset({'45113'}), frozenset({'43415'}), frozenset({'32750'}), frozenset({'31746'}), frozenset({'22766'}), frozenset({'32141'}), frozenset({'50150'})}, {frozenset({'39379', '36353'}), frozenset({'46851', '39379'}), frozenset({'41998', '37439'})}]\n",
            "----------\n",
            "support_data: {frozenset({'34597'}): 0.01622459210646249, frozenset({'46074'}): 0.01007200802114666, frozenset({'32478'}): 0.012555829003737124, frozenset({'11204'}): 0.010277094157323854, frozenset({'40251'}): 0.010482180293501049, frozenset({'41361'}): 0.01134809953513809, frozenset({'36353'}): 0.018161516725913773, frozenset({'32141'}): 0.012464679609880595, frozenset({'39379'}): 0.017363959529669126, frozenset({'39349'}): 0.012077294685990338, frozenset({'44657'}): 0.01082399052046304, frozenset({'39158'}): 0.011393674232066357, frozenset({'45196'}): 0.023083583994166438, frozenset({'46851'}): 0.02267341172181205, frozenset({'38888'}): 0.010436605596572782, frozenset({'50150'}): 0.012031719989062073, frozenset({'37638'}): 0.01200893264059794, frozenset({'37078'}): 0.023197520736487103, frozenset({'32750'}): 0.013239449457661107, frozenset({'39019'}): 0.014561115668580805, frozenset({'46775'}): 0.021009935283930362, frozenset({'43819'}): 0.02016680339075745, frozenset({'22486'}): 0.01082399052046304, frozenset({'32660'}): 0.011051864005104366, frozenset({'41998'}): 0.02805122595934737, frozenset({'29570'}): 0.010094795369610792, frozenset({'48794'}): 0.014242092790082947, frozenset({'37439'}): 0.020622550360040105, frozenset({'42543'}): 0.01453832832011667, frozenset({'37329'}): 0.016862637863458207, frozenset({'32294'}): 0.011644335065171816, frozenset({'44960'}): 0.015746057788715705, frozenset({'42892'}): 0.011553185671315285, frozenset({'47870'}): 0.012738127791450187, frozenset({'47770'}): 0.012783702488378451, frozenset({'18540'}): 0.016862637863458207, frozenset({'48099'}): 0.0293956795187312, frozenset({'46117'}): 0.023995077932731746, frozenset({'22766'}): 0.011598760368243552, frozenset({'24170'}): 0.010960714611247835, frozenset({'43415'}): 0.011963357943669675, frozenset({'9187'}): 0.016429678242639686, frozenset({'44169'}): 0.01638410354571142, frozenset({'40958'}): 0.011894995898277276, frozenset({'47790'}): 0.013695196426943761, frozenset({'31456'}): 0.012487466958344727, frozenset({'45197'}): 0.01310272536687631, frozenset({'39731'}): 0.01075562847507064, frozenset({'31746'}): 0.018070367332057243, frozenset({'39940'}): 0.010345456202716251, frozenset({'26345'}): 0.011143013398960898, frozenset({'40666'}): 0.013558472336158964, frozenset({'49209'}): 0.012738127791450187, frozenset({'48438'}): 0.01604229331874943, frozenset({'45113'}): 0.014037006653905752, frozenset({'49956'}): 0.014720627107829733, frozenset({'50001'}): 0.01007200802114666, frozenset({'39284'}): 0.011689909762100083, frozenset({'46851', '39379'}): 0.010094795369610792, frozenset({'39379', '36353'}): 0.01216844407984687, frozenset({'41998', '37439'}): 0.011325312186673958}\n",
            "2\n",
            "{frozenset({'37078'}), frozenset({'18540'}), frozenset({'26345'}), frozenset({'32478'}), frozenset({'29570'}), frozenset({'39940'}), frozenset({'49956'}), frozenset({'46074'}), frozenset({'37439'}), frozenset({'37638'}), frozenset({'45196'}), frozenset({'40251'}), frozenset({'48438'}), frozenset({'32660'}), frozenset({'46117'}), frozenset({'44960'}), frozenset({'22486'}), frozenset({'32294'}), frozenset({'38888'}), frozenset({'9187'}), frozenset({'42543'}), frozenset({'42892'}), frozenset({'44169'}), frozenset({'24170'}), frozenset({'50001'}), frozenset({'44657'}), frozenset({'39019'}), frozenset({'48794'}), frozenset({'31456'}), frozenset({'41998'}), frozenset({'48099'}), frozenset({'46775'}), frozenset({'49209'}), frozenset({'39158'}), frozenset({'45197'}), frozenset({'39379'}), frozenset({'41361'}), frozenset({'40666'}), frozenset({'11204'}), frozenset({'37329'}), frozenset({'39284'}), frozenset({'40958'}), frozenset({'47790'}), frozenset({'36353'}), frozenset({'46851'}), frozenset({'39349'}), frozenset({'43819'}), frozenset({'47770'}), frozenset({'47870'}), frozenset({'34597'}), frozenset({'39731'}), frozenset({'45113'}), frozenset({'43415'}), frozenset({'32750'}), frozenset({'31746'}), frozenset({'22766'}), frozenset({'32141'}), frozenset({'50150'})}\n",
            "==================================================\n",
            "frequent 1-itemsets\t\tsupport\n",
            "==================================================\n",
            "frozenset({'37078'}) 0.023197520736487103\n",
            "frozenset({'18540'}) 0.016862637863458207\n",
            "frozenset({'26345'}) 0.011143013398960898\n",
            "frozenset({'32478'}) 0.012555829003737124\n",
            "frozenset({'29570'}) 0.010094795369610792\n",
            "frozenset({'39940'}) 0.010345456202716251\n",
            "frozenset({'49956'}) 0.014720627107829733\n",
            "frozenset({'46074'}) 0.01007200802114666\n",
            "frozenset({'37439'}) 0.020622550360040105\n",
            "frozenset({'37638'}) 0.01200893264059794\n",
            "frozenset({'45196'}) 0.023083583994166438\n",
            "frozenset({'40251'}) 0.010482180293501049\n",
            "frozenset({'48438'}) 0.01604229331874943\n",
            "frozenset({'32660'}) 0.011051864005104366\n",
            "frozenset({'46117'}) 0.023995077932731746\n",
            "frozenset({'44960'}) 0.015746057788715705\n",
            "frozenset({'22486'}) 0.01082399052046304\n",
            "frozenset({'32294'}) 0.011644335065171816\n",
            "frozenset({'38888'}) 0.010436605596572782\n",
            "frozenset({'9187'}) 0.016429678242639686\n",
            "frozenset({'42543'}) 0.01453832832011667\n",
            "frozenset({'42892'}) 0.011553185671315285\n",
            "frozenset({'44169'}) 0.01638410354571142\n",
            "frozenset({'24170'}) 0.010960714611247835\n",
            "frozenset({'50001'}) 0.01007200802114666\n",
            "frozenset({'44657'}) 0.01082399052046304\n",
            "frozenset({'39019'}) 0.014561115668580805\n",
            "frozenset({'48794'}) 0.014242092790082947\n",
            "frozenset({'31456'}) 0.012487466958344727\n",
            "frozenset({'41998'}) 0.02805122595934737\n",
            "frozenset({'48099'}) 0.0293956795187312\n",
            "frozenset({'46775'}) 0.021009935283930362\n",
            "frozenset({'49209'}) 0.012738127791450187\n",
            "frozenset({'39158'}) 0.011393674232066357\n",
            "frozenset({'45197'}) 0.01310272536687631\n",
            "frozenset({'39379'}) 0.017363959529669126\n",
            "frozenset({'41361'}) 0.01134809953513809\n",
            "frozenset({'40666'}) 0.013558472336158964\n",
            "frozenset({'11204'}) 0.010277094157323854\n",
            "frozenset({'37329'}) 0.016862637863458207\n",
            "frozenset({'39284'}) 0.011689909762100083\n",
            "frozenset({'40958'}) 0.011894995898277276\n",
            "frozenset({'47790'}) 0.013695196426943761\n",
            "frozenset({'36353'}) 0.018161516725913773\n",
            "frozenset({'46851'}) 0.02267341172181205\n",
            "frozenset({'39349'}) 0.012077294685990338\n",
            "frozenset({'43819'}) 0.02016680339075745\n",
            "frozenset({'47770'}) 0.012783702488378451\n",
            "frozenset({'47870'}) 0.012738127791450187\n",
            "frozenset({'34597'}) 0.01622459210646249\n",
            "frozenset({'39731'}) 0.01075562847507064\n",
            "frozenset({'45113'}) 0.014037006653905752\n",
            "frozenset({'43415'}) 0.011963357943669675\n",
            "frozenset({'32750'}) 0.013239449457661107\n",
            "frozenset({'31746'}) 0.018070367332057243\n",
            "frozenset({'22766'}) 0.011598760368243552\n",
            "frozenset({'32141'}) 0.012464679609880595\n",
            "frozenset({'50150'}) 0.012031719989062073\n",
            "==================================================\n",
            "frequent 2-itemsets\t\tsupport\n",
            "==================================================\n",
            "frozenset({'39379', '36353'}) 0.01216844407984687\n",
            "frozenset({'46851', '39379'}) 0.010094795369610792\n",
            "frozenset({'41998', '37439'}) 0.011325312186673958\n",
            "Big Rules\n",
            "frozenset({'39379'}) => frozenset({'36353'}) conf:  0.7007874015748032\n"
          ]
        }
      ]
    }
  ]
}