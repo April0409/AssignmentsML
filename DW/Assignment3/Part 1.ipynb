{
 "cells": [
  {
   "cell_type": "code",
   "execution_count": 21,
   "metadata": {},
   "outputs": [],
   "source": [
    "import os\n",
    "from os import getcwd\n",
    "TRAIN = os.path.join(getcwd(), 'MinHash/data/articles_1000.train')\n",
    "TRUTH = os.path.join(getcwd(), 'MinHash/data/articles_1000.truth')"
   ]
  },
  {
   "cell_type": "code",
   "execution_count": 22,
   "metadata": {},
   "outputs": [],
   "source": [
    "import numpy as np\n",
    "import string"
   ]
  },
  {
   "cell_type": "code",
   "execution_count": 23,
   "metadata": {},
   "outputs": [],
   "source": [
    "def parse_data(filename):\n",
    "    if not filename:\n",
    "        raise ValueError(\"filename is empty.\")\n",
    "    \n",
    "    with open(filename) as f:\n",
    "        # read lines from filename\n",
    "        content = f.readlines()\n",
    "        content = [x.strip() for x in content]\n",
    "        exclude = set(string.punctuation)\n",
    "        tuples = list()\n",
    "        \n",
    "    for line in content:\n",
    "        id, article = line.split(\" \", 1)\n",
    "\n",
    "        #remove all punctuation\n",
    "        #remove all whitespace so that all words are concatenated\n",
    "        #change all letters to lowercase\n",
    "        article = ''.join(ch for ch in article if ch not in exclude).replace(' ', '').lower()\n",
    "\n",
    "        #construct tuple of id and text\n",
    "        tuples.append((id, article))\n",
    "    \n",
    "    # print(tuples[0:10])\n",
    "    #return tuple with id and processed string\n",
    "    return tuples"
   ]
  },
  {
   "cell_type": "code",
   "execution_count": 24,
   "metadata": {},
   "outputs": [],
   "source": [
    "import binascii\n",
    "\n",
    "def shingle_document(string, k):\n",
    "    if not string:\n",
    "        raise ValueError(\"String is empty.\")\n",
    "    if not k:\n",
    "        raise ValueError(\"k is empty.\")\n",
    "    \n",
    "    # initialize set data structure\n",
    "    unique_hash = set()\n",
    "\n",
    "    # extract substring of length k\n",
    "    # hash substring into 32-bit integer\n",
    "    # insert into set\n",
    "    for i in range(0, len(string) - k + 1):\n",
    "        unique_hash.add(binascii.crc32(string[i:i+k].encode(\"utf-8\")))\n",
    "    \n",
    "    # return set\n",
    "    return unique_hash"
   ]
  },
  {
   "cell_type": "code",
   "execution_count": 25,
   "metadata": {},
   "outputs": [],
   "source": [
    "def jaccard(a, b):\n",
    "    if not a:\n",
    "        raise ValueError(\"a is empty.\")\n",
    "    if not b:\n",
    "        raise ValueError(\"b is empty.\")\n",
    "        \n",
    "    a = set(a)\n",
    "    b = set(b)\n",
    "\n",
    "    # compute union size\n",
    "    # compute intersection size\n",
    "    #return ratio of union and intersection\n",
    "    return len(a.intersection(b))/len(a.union(b))"
   ]
  },
  {
   "cell_type": "code",
   "execution_count": 26,
   "metadata": {},
   "outputs": [],
   "source": [
    "\n",
    "def similarity(tuples, k):\n",
    "    # if not filename:\n",
    "    #     raise ValueError(\"filename is empty.\")\n",
    "    # if not k:\n",
    "    #     raise ValueError(\"k is empty.\")\n",
    "    \n",
    "    # parse a file with data\n",
    "    # tuples = parse_data(filename)\n",
    "\n",
    "    tuples_js = list()\n",
    "\n",
    "    n = len(tuples)\n",
    "\n",
    "    for i in range(0, n - 1):\n",
    "        id_i, article_i = tuples[i]\n",
    "        \n",
    "        if k > len(article_i):\n",
    "            raise ValueError(\"k is out of bound.\")\n",
    "\n",
    "        for j in range(i + 1, n):\n",
    "            id_j, article_j = tuples[j]\n",
    "            \n",
    "            if k > len(article_j):\n",
    "                raise ValueError(\"k is out of bound.\")\n",
    "\n",
    "            s = jaccard(shingle_document(article_i, k), shingle_document(article_j, k))\n",
    "            tuples_js.append((id_i, id_j, s))\n",
    "\n",
    "    # return a list of tuples, each tuple contains: (id1, id2, s)\n",
    "    return tuples_js"
   ]
  },
  {
   "cell_type": "code",
   "execution_count": 27,
   "metadata": {},
   "outputs": [],
   "source": [
    "def average_Jaccard_similarity(train,p_truth,k):\n",
    "    if not train:\n",
    "        raise ValueError(\"train data is empty.\")\n",
    "    if not p_truth:\n",
    "        raise ValueError(\"truth data is empty.\")\n",
    "    if not k:\n",
    "        raise ValueError(\"n is empty.\")\n",
    "    # similarity\n",
    "    js = similarity(train, k)\n",
    "\n",
    "    # (id1, id2) is key, jaccard similarity is content.\n",
    "    abbr_dict = {tuple(item[0:2]): item[2] for item in js}\n",
    "    sum_train, sum_truth = 0, 0\n",
    "    \n",
    "    for j in range(0, len(p_truth)-1):\n",
    "        # from dictionary we get js of key of (id1, id2)\n",
    "        sum_truth = abbr_dict[(p_truth[j])] + sum_truth\n",
    "        \n",
    "    mean_truth = sum_truth/len(p_truth)\n",
    "    \n",
    "    for i in range(0, len(js)-1):\n",
    "        sum_train = js[i][2] + sum_train\n",
    "    \n",
    "    # (sum of train js - sum of truth js)/# of js\n",
    "    mean_train = (sum_train - sum_truth) / (len(js) - len(p_truth))\n",
    "    \n",
    "    print(tuple((k, mean_train, mean_truth)))\n",
    "    return tuple((k, mean_train, mean_truth))"
   ]
  },
  {
   "cell_type": "code",
   "execution_count": 28,
   "metadata": {},
   "outputs": [],
   "source": [
    "import matplotlib.pyplot as plt\n",
    "import pandas as pd\n",
    "\n",
    "def plot_mean_table(mean_table):\n",
    "    df         = pd.DataFrame(mean_table)\n",
    "    df.columns = [\"k\", \"non-plagiarism instances\", \"plagiarism instances\"]\n",
    "    \n",
    "    plt.plot('k', 'non-plagiarism instances', data = df, color = 'green')\n",
    "    plt.plot('k', 'plagiarism instances',     data = df, color = 'red')\n",
    "    \n",
    "    plt.xlabel('k value')\n",
    "    plt.ylabel('average Jaccard similarity')\n",
    "    \n",
    "    plt.title('Plagiarism and Non-Plagiarism Articles\\'\\nJaccard Similarity Comparison\\n')\n",
    "    plt.legend()\n",
    "    plt.show()\n",
    "    \n",
    "    pass"
   ]
  },
  {
   "cell_type": "code",
   "execution_count": 29,
   "metadata": {},
   "outputs": [],
   "source": [
    "results = []\n",
    "def results_log(msg):\n",
    "    if(msg):\n",
    "        results.append(msg)\n",
    "        print(msg)\n",
    "    pass"
   ]
  },
  {
   "cell_type": "code",
   "execution_count": 30,
   "metadata": {},
   "outputs": [
    {
     "name": "stdout",
     "output_type": "stream",
     "text": [
      "(1, 0.8388242235217155, 0.9)\n",
      "(5, 0.03349132564590714, 0.8889609946134603)\n",
      "(10, 0.0022239235076237213, 0.8823852831999363)\n",
      "(15, 0.00034179102730886316, 0.8753016871618995)\n",
      "(20, 0.0001507861849075012, 0.868182599920097)\n",
      "(30, 8.623903135534168e-05, 0.8539444254364928)\n",
      "(40, 6.829381020747571e-05, 0.8397062509528885)\n",
      "(50, 5.7633481798866145e-05, 0.8254680764692839)\n",
      "(60, 4.943710652242441e-05, 0.8112299019856797)\n",
      "(70, 4.330562816345066e-05, 0.7969917275020751)\n",
      "(80, 3.808455944406777e-05, 0.7827535530184708)\n",
      "(100, 2.8790209270061167e-05, 0.754277204051262)\n"
     ]
    },
    {
     "data": {
      "image/png": "[encoded data removed]",
      "text/plain": [
       "<Figure size 640x480 with 1 Axes>"
      ]
     },
     "metadata": {},
     "output_type": "display_data"
    }
   ],
   "source": [
    "#import multiprocessing  as mp\n",
    "\n",
    "if __name__ == '__main__':\n",
    "    # parse_data(), plagiarism truth is a pair of document ids\n",
    "    p_truth = parse_data(TRUTH)\n",
    "    train = parse_data(TRAIN)\n",
    "    tuples  = list()\n",
    "\n",
    "    #Make the most of CPU, parallel compute the similarity\n",
    "    # num_cores = int(mp.cpu_count())\n",
    "    # pool = mp.Pool(8)\n",
    "\n",
    "    k_range = [1,5,10,15,20,30,40,50,60,70,80,100]\n",
    "    for k in k_range:\n",
    "        tuples.append(average_Jaccard_similarity(train,p_truth,k))\n",
    "\n",
    "    #pool_results = [pool.apply_async(average_Jaccard_similarity,args=(train,p_truth,k) ,callback=results_log) for k in k_range]\n",
    "\n",
    "    # for i in pool_results:\n",
    "    #     if(i.get()):\n",
    "    #         tuples.append(i.get())\n",
    "\n",
    "    #release sub-threads\n",
    "    # pool.close()\n",
    "    # pool.join()\n",
    "\n",
    "    plot_mean_table(tuples)"
   ]
  },
  {
   "cell_type": "markdown",
   "metadata": {},
   "source": [
    "#### What is the effect of sharding length k on the Jaccard similarity of plagiarism instances versus instances that are not plagiarized?\n",
    "\n",
    "#### 1. When k is between 0 and 20, Jaccard similarity of non-plagirism decrease dramatically, after 20, and the trend of similarity of non-plagirism becomes smooth and approaching to 0.\n",
    "#### 2. Jaccard similarity of plagiarism changes like linear and the effect on plagiarism is much smaller than non-plagirism one within the scope of length k.\n",
    "#### 3. We do not need to choose a k bigger than 20, actually, in this train_1000 file, I consider 10 is the suitable k, because the similarity of non-plagiarism is appoaching to 0, and the plagirism one is 0.88. It reflects the truth well.\n",
    "\n"
   ]
  }
 ],
 "metadata": {
  "kernelspec": {
   "display_name": "Python 3",
   "language": "python",
   "name": "python3"
  },
  "language_info": {
   "codemirror_mode": {
    "name": "ipython",
    "version": 3
   },
   "file_extension": ".py",
   "mimetype": "text/x-python",
   "name": "python",
   "nbconvert_exporter": "python",
   "pygments_lexer": "ipython3",
   "version": "3.11.4"
  }
 },
 "nbformat": 4,
 "nbformat_minor": 2
}
